{
 "cells": [
  {
   "cell_type": "markdown",
   "metadata": {},
   "source": [
    "# Make zebra WOL database"
   ]
  },
  {
   "cell_type": "code",
   "execution_count": 1,
   "metadata": {},
   "outputs": [],
   "source": [
    "import pandas as pd\n",
    "from collections import defaultdict"
   ]
  },
  {
   "cell_type": "markdown",
   "metadata": {},
   "source": [
    "## File locations"
   ]
  },
  {
   "cell_type": "code",
   "execution_count": 6,
   "metadata": {},
   "outputs": [
    {
     "name": "stdout",
     "output_type": "stream",
     "text": [
      "make_wol_database.ipynb  taxid2length.txt    wol_zebra_db.tsv\r\n",
      "ncbi_lengths.txt\t taxid2taxonomy.txt\r\n"
     ]
    }
   ],
   "source": [
    "!ls"
   ]
  },
  {
   "cell_type": "code",
   "execution_count": 15,
   "metadata": {},
   "outputs": [],
   "source": [
    "# nucl2tid: link taxid to gotu\n",
    "gotu2t1d_file=\"taxmap.txt\"\n",
    "# nucl2lineage: link taxid to taxonomy\n",
    "taxid2taxonomy_file=\"taxid2taxonomy.txt\"\n",
    "# taxid2length: link taxid to length\n",
    "taxid_length_file=\"taxid2length.txt\""
   ]
  },
  {
   "cell_type": "markdown",
   "metadata": {},
   "source": [
    "## Import files"
   ]
  },
  {
   "cell_type": "code",
   "execution_count": 30,
   "metadata": {},
   "outputs": [],
   "source": [
    "#Make dictionary linking taxid to all the ncbi genome ids associated with it\n",
    "gotu_taxid_dict = {}\n",
    "with open(gotu2t1d_file, 'r') as openfile:\n",
    "    for line in openfile:\n",
    "        gotu = line.split()[0].strip()\n",
    "        taxid = line.split()[1].strip()\n",
    "        gotu_taxid_dict[taxid] = gotu\n",
    "        \n",
    "#Import dataframe of total lenght of genomes by taxid\n",
    "taxid_length_df = pd.read_csv(taxid_length_file, sep='\\t')\n",
    "taxid_length_df.columns = [\"taxid\",\"total_length\"]\n",
    "#Import dataframe of taxon name and taxid\n",
    "taxid_taxonomy_df = pd.read_csv(taxid2taxonomy_file, sep='\\t', header=None)\n",
    "taxid_taxonomy_df.columns= [\"taxid\",\"taxon\"]"
   ]
  },
  {
   "cell_type": "markdown",
   "metadata": {},
   "source": [
    "## Merge files"
   ]
  },
  {
   "cell_type": "code",
   "execution_count": 35,
   "metadata": {},
   "outputs": [],
   "source": [
    "#Make merged dataframe of taxid, genome length, and taxon name\n",
    "merged_df = taxid_length_df.merge(taxid_taxonomy_df, on=\"taxid\")\n",
    "#Add all ncbi genome ids associated with each taxid as a list joined by commas\n",
    "merged_df[\"gotu\"] = [gotu_taxid_dict[str(x)] for x in merged_df.taxid]\n",
    "#Reorder columns\n",
    "merged_df = merged_df.loc[:,[\"gotu\",\"taxid\",\"taxon\",\"total_length\"]]"
   ]
  },
  {
   "cell_type": "markdown",
   "metadata": {},
   "source": [
    "## Export database"
   ]
  },
  {
   "cell_type": "code",
   "execution_count": 62,
   "metadata": {},
   "outputs": [],
   "source": [
    "merged_df.to_csv(\"wol_zebra_db.tsv\", sep='\\t', index=False)"
   ]
  }
 ],
 "metadata": {
  "kernelspec": {
   "display_name": "Python 3",
   "language": "python",
   "name": "python3"
  },
  "language_info": {
   "codemirror_mode": {
    "name": "ipython",
    "version": 3
   },
   "file_extension": ".py",
   "mimetype": "text/x-python",
   "name": "python",
   "nbconvert_exporter": "python",
   "pygments_lexer": "ipython3",
   "version": "3.5.5"
  }
 },
 "nbformat": 4,
 "nbformat_minor": 2
}
